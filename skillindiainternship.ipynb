{
  "nbformat": 4,
  "nbformat_minor": 0,
  "metadata": {
    "colab": {
      "name": "skillindiainternship.ipynb",
      "provenance": [],
      "authorship_tag": "ABX9TyMxc+GRYlTvOXnWAmL42Eya",
      "include_colab_link": true
    },
    "kernelspec": {
      "name": "python3",
      "display_name": "Python 3"
    },
    "language_info": {
      "name": "python"
    }
  },
  "cells": [
    {
      "cell_type": "markdown",
      "metadata": {
        "id": "view-in-github",
        "colab_type": "text"
      },
      "source": [
        "<a href=\"https://colab.research.google.com/github/tarunkumarsharma120/olympic-Assignment/blob/main/skillindiainternship.ipynb\" target=\"_parent\"><img src=\"https://colab.research.google.com/assets/colab-badge.svg\" alt=\"Open In Colab\"/></a>"
      ]
    },
    {
      "cell_type": "markdown",
      "metadata": {
        "id": "Bpalwtxm3Pzv"
      },
      "source": [
        "![image.png](data:image/png;base64,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)"
      ]
    },
    {
      "cell_type": "markdown",
      "metadata": {
        "id": "KUUKrosjbLC1"
      },
      "source": [
        "TARUN KUMAR <br>\n",
        "EMAILID: tarunkumarsharma120@gmail.com <br>\n",
        "contact: 7838573392 <br>\n",
        "Internship in Python with ML/AI"
      ]
    },
    {
      "cell_type": "markdown",
      "metadata": {
        "id": "kO3EAdrR3TI6"
      },
      "source": [
        "<h1>Summer Olympics Assignment</h1>"
      ]
    },
    {
      "cell_type": "code",
      "metadata": {
        "id": "Go4ytWL62tXB"
      },
      "source": [
        "import pandas as pd\n",
        "import numpy as np\n",
        "import matplotlib.pyplot as plt\n",
        "import seaborn as sns\n",
        "summer=pd.read_csv('summer.csv')"
      ],
      "execution_count": 12,
      "outputs": []
    },
    {
      "cell_type": "code",
      "metadata": {
        "colab": {
          "base_uri": "https://localhost:8080/",
          "height": 203
        },
        "id": "po0Ejovz4D0v",
        "outputId": "bf7dafe5-df20-4474-fbc4-5feab8922ea2"
      },
      "source": [
        "summer.head()"
      ],
      "execution_count": 13,
      "outputs": [
        {
          "output_type": "execute_result",
          "data": {
            "text/html": [
              "<div>\n",
              "<style scoped>\n",
              "    .dataframe tbody tr th:only-of-type {\n",
              "        vertical-align: middle;\n",
              "    }\n",
              "\n",
              "    .dataframe tbody tr th {\n",
              "        vertical-align: top;\n",
              "    }\n",
              "\n",
              "    .dataframe thead th {\n",
              "        text-align: right;\n",
              "    }\n",
              "</style>\n",
              "<table border=\"1\" class=\"dataframe\">\n",
              "  <thead>\n",
              "    <tr style=\"text-align: right;\">\n",
              "      <th></th>\n",
              "      <th>Year</th>\n",
              "      <th>City</th>\n",
              "      <th>Sport</th>\n",
              "      <th>Discipline</th>\n",
              "      <th>Athlete</th>\n",
              "      <th>Country</th>\n",
              "      <th>Gender</th>\n",
              "      <th>Event</th>\n",
              "      <th>Medal</th>\n",
              "    </tr>\n",
              "  </thead>\n",
              "  <tbody>\n",
              "    <tr>\n",
              "      <th>0</th>\n",
              "      <td>1896</td>\n",
              "      <td>Athens</td>\n",
              "      <td>Aquatics</td>\n",
              "      <td>Swimming</td>\n",
              "      <td>HAJOS, Alfred</td>\n",
              "      <td>HUN</td>\n",
              "      <td>Men</td>\n",
              "      <td>100M Freestyle</td>\n",
              "      <td>Gold</td>\n",
              "    </tr>\n",
              "    <tr>\n",
              "      <th>1</th>\n",
              "      <td>1896</td>\n",
              "      <td>Athens</td>\n",
              "      <td>Aquatics</td>\n",
              "      <td>Swimming</td>\n",
              "      <td>HERSCHMANN, Otto</td>\n",
              "      <td>AUT</td>\n",
              "      <td>Men</td>\n",
              "      <td>100M Freestyle</td>\n",
              "      <td>Silver</td>\n",
              "    </tr>\n",
              "    <tr>\n",
              "      <th>2</th>\n",
              "      <td>1896</td>\n",
              "      <td>Athens</td>\n",
              "      <td>Aquatics</td>\n",
              "      <td>Swimming</td>\n",
              "      <td>DRIVAS, Dimitrios</td>\n",
              "      <td>GRE</td>\n",
              "      <td>Men</td>\n",
              "      <td>100M Freestyle For Sailors</td>\n",
              "      <td>Bronze</td>\n",
              "    </tr>\n",
              "    <tr>\n",
              "      <th>3</th>\n",
              "      <td>1896</td>\n",
              "      <td>Athens</td>\n",
              "      <td>Aquatics</td>\n",
              "      <td>Swimming</td>\n",
              "      <td>MALOKINIS, Ioannis</td>\n",
              "      <td>GRE</td>\n",
              "      <td>Men</td>\n",
              "      <td>100M Freestyle For Sailors</td>\n",
              "      <td>Gold</td>\n",
              "    </tr>\n",
              "    <tr>\n",
              "      <th>4</th>\n",
              "      <td>1896</td>\n",
              "      <td>Athens</td>\n",
              "      <td>Aquatics</td>\n",
              "      <td>Swimming</td>\n",
              "      <td>CHASAPIS, Spiridon</td>\n",
              "      <td>GRE</td>\n",
              "      <td>Men</td>\n",
              "      <td>100M Freestyle For Sailors</td>\n",
              "      <td>Silver</td>\n",
              "    </tr>\n",
              "  </tbody>\n",
              "</table>\n",
              "</div>"
            ],
            "text/plain": [
              "   Year    City     Sport  ... Gender                       Event   Medal\n",
              "0  1896  Athens  Aquatics  ...    Men              100M Freestyle    Gold\n",
              "1  1896  Athens  Aquatics  ...    Men              100M Freestyle  Silver\n",
              "2  1896  Athens  Aquatics  ...    Men  100M Freestyle For Sailors  Bronze\n",
              "3  1896  Athens  Aquatics  ...    Men  100M Freestyle For Sailors    Gold\n",
              "4  1896  Athens  Aquatics  ...    Men  100M Freestyle For Sailors  Silver\n",
              "\n",
              "[5 rows x 9 columns]"
            ]
          },
          "metadata": {},
          "execution_count": 13
        }
      ]
    },
    {
      "cell_type": "code",
      "metadata": {
        "colab": {
          "base_uri": "https://localhost:8080/",
          "height": 388
        },
        "id": "dbXpfv3b4ReQ",
        "outputId": "d61ec1e9-eff5-41e1-b359-b77fbf2856b4"
      },
      "source": [
        "summer.describe(include='all')"
      ],
      "execution_count": 14,
      "outputs": [
        {
          "output_type": "execute_result",
          "data": {
            "text/html": [
              "<div>\n",
              "<style scoped>\n",
              "    .dataframe tbody tr th:only-of-type {\n",
              "        vertical-align: middle;\n",
              "    }\n",
              "\n",
              "    .dataframe tbody tr th {\n",
              "        vertical-align: top;\n",
              "    }\n",
              "\n",
              "    .dataframe thead th {\n",
              "        text-align: right;\n",
              "    }\n",
              "</style>\n",
              "<table border=\"1\" class=\"dataframe\">\n",
              "  <thead>\n",
              "    <tr style=\"text-align: right;\">\n",
              "      <th></th>\n",
              "      <th>Year</th>\n",
              "      <th>City</th>\n",
              "      <th>Sport</th>\n",
              "      <th>Discipline</th>\n",
              "      <th>Athlete</th>\n",
              "      <th>Country</th>\n",
              "      <th>Gender</th>\n",
              "      <th>Event</th>\n",
              "      <th>Medal</th>\n",
              "    </tr>\n",
              "  </thead>\n",
              "  <tbody>\n",
              "    <tr>\n",
              "      <th>count</th>\n",
              "      <td>31165.000000</td>\n",
              "      <td>31165</td>\n",
              "      <td>31165</td>\n",
              "      <td>31165</td>\n",
              "      <td>31165</td>\n",
              "      <td>31161</td>\n",
              "      <td>31165</td>\n",
              "      <td>31165</td>\n",
              "      <td>31165</td>\n",
              "    </tr>\n",
              "    <tr>\n",
              "      <th>unique</th>\n",
              "      <td>NaN</td>\n",
              "      <td>22</td>\n",
              "      <td>43</td>\n",
              "      <td>67</td>\n",
              "      <td>22762</td>\n",
              "      <td>147</td>\n",
              "      <td>2</td>\n",
              "      <td>666</td>\n",
              "      <td>3</td>\n",
              "    </tr>\n",
              "    <tr>\n",
              "      <th>top</th>\n",
              "      <td>NaN</td>\n",
              "      <td>London</td>\n",
              "      <td>Aquatics</td>\n",
              "      <td>Athletics</td>\n",
              "      <td>PHELPS, Michael</td>\n",
              "      <td>USA</td>\n",
              "      <td>Men</td>\n",
              "      <td>Football</td>\n",
              "      <td>Gold</td>\n",
              "    </tr>\n",
              "    <tr>\n",
              "      <th>freq</th>\n",
              "      <td>NaN</td>\n",
              "      <td>3567</td>\n",
              "      <td>4170</td>\n",
              "      <td>3638</td>\n",
              "      <td>22</td>\n",
              "      <td>4585</td>\n",
              "      <td>22746</td>\n",
              "      <td>1497</td>\n",
              "      <td>10486</td>\n",
              "    </tr>\n",
              "    <tr>\n",
              "      <th>mean</th>\n",
              "      <td>1970.482785</td>\n",
              "      <td>NaN</td>\n",
              "      <td>NaN</td>\n",
              "      <td>NaN</td>\n",
              "      <td>NaN</td>\n",
              "      <td>NaN</td>\n",
              "      <td>NaN</td>\n",
              "      <td>NaN</td>\n",
              "      <td>NaN</td>\n",
              "    </tr>\n",
              "    <tr>\n",
              "      <th>std</th>\n",
              "      <td>33.158416</td>\n",
              "      <td>NaN</td>\n",
              "      <td>NaN</td>\n",
              "      <td>NaN</td>\n",
              "      <td>NaN</td>\n",
              "      <td>NaN</td>\n",
              "      <td>NaN</td>\n",
              "      <td>NaN</td>\n",
              "      <td>NaN</td>\n",
              "    </tr>\n",
              "    <tr>\n",
              "      <th>min</th>\n",
              "      <td>1896.000000</td>\n",
              "      <td>NaN</td>\n",
              "      <td>NaN</td>\n",
              "      <td>NaN</td>\n",
              "      <td>NaN</td>\n",
              "      <td>NaN</td>\n",
              "      <td>NaN</td>\n",
              "      <td>NaN</td>\n",
              "      <td>NaN</td>\n",
              "    </tr>\n",
              "    <tr>\n",
              "      <th>25%</th>\n",
              "      <td>1948.000000</td>\n",
              "      <td>NaN</td>\n",
              "      <td>NaN</td>\n",
              "      <td>NaN</td>\n",
              "      <td>NaN</td>\n",
              "      <td>NaN</td>\n",
              "      <td>NaN</td>\n",
              "      <td>NaN</td>\n",
              "      <td>NaN</td>\n",
              "    </tr>\n",
              "    <tr>\n",
              "      <th>50%</th>\n",
              "      <td>1980.000000</td>\n",
              "      <td>NaN</td>\n",
              "      <td>NaN</td>\n",
              "      <td>NaN</td>\n",
              "      <td>NaN</td>\n",
              "      <td>NaN</td>\n",
              "      <td>NaN</td>\n",
              "      <td>NaN</td>\n",
              "      <td>NaN</td>\n",
              "    </tr>\n",
              "    <tr>\n",
              "      <th>75%</th>\n",
              "      <td>2000.000000</td>\n",
              "      <td>NaN</td>\n",
              "      <td>NaN</td>\n",
              "      <td>NaN</td>\n",
              "      <td>NaN</td>\n",
              "      <td>NaN</td>\n",
              "      <td>NaN</td>\n",
              "      <td>NaN</td>\n",
              "      <td>NaN</td>\n",
              "    </tr>\n",
              "    <tr>\n",
              "      <th>max</th>\n",
              "      <td>2012.000000</td>\n",
              "      <td>NaN</td>\n",
              "      <td>NaN</td>\n",
              "      <td>NaN</td>\n",
              "      <td>NaN</td>\n",
              "      <td>NaN</td>\n",
              "      <td>NaN</td>\n",
              "      <td>NaN</td>\n",
              "      <td>NaN</td>\n",
              "    </tr>\n",
              "  </tbody>\n",
              "</table>\n",
              "</div>"
            ],
            "text/plain": [
              "                Year    City     Sport  ... Gender     Event  Medal\n",
              "count   31165.000000   31165     31165  ...  31165     31165  31165\n",
              "unique           NaN      22        43  ...      2       666      3\n",
              "top              NaN  London  Aquatics  ...    Men  Football   Gold\n",
              "freq             NaN    3567      4170  ...  22746      1497  10486\n",
              "mean     1970.482785     NaN       NaN  ...    NaN       NaN    NaN\n",
              "std        33.158416     NaN       NaN  ...    NaN       NaN    NaN\n",
              "min      1896.000000     NaN       NaN  ...    NaN       NaN    NaN\n",
              "25%      1948.000000     NaN       NaN  ...    NaN       NaN    NaN\n",
              "50%      1980.000000     NaN       NaN  ...    NaN       NaN    NaN\n",
              "75%      2000.000000     NaN       NaN  ...    NaN       NaN    NaN\n",
              "max      2012.000000     NaN       NaN  ...    NaN       NaN    NaN\n",
              "\n",
              "[11 rows x 9 columns]"
            ]
          },
          "metadata": {},
          "execution_count": 14
        }
      ]
    },
    {
      "cell_type": "code",
      "metadata": {
        "id": "aP8XkaQf4fnv"
      },
      "source": [
        "summer.dropna(inplace=True)"
      ],
      "execution_count": 15,
      "outputs": []
    },
    {
      "cell_type": "code",
      "metadata": {
        "colab": {
          "base_uri": "https://localhost:8080/"
        },
        "id": "hHsKOsTO4u7z",
        "outputId": "40e94f03-b8d0-44d3-d6a2-11960d0fc798"
      },
      "source": [
        "summer.info()"
      ],
      "execution_count": 16,
      "outputs": [
        {
          "output_type": "stream",
          "name": "stdout",
          "text": [
            "<class 'pandas.core.frame.DataFrame'>\n",
            "Int64Index: 31161 entries, 0 to 31164\n",
            "Data columns (total 9 columns):\n",
            " #   Column      Non-Null Count  Dtype \n",
            "---  ------      --------------  ----- \n",
            " 0   Year        31161 non-null  int64 \n",
            " 1   City        31161 non-null  object\n",
            " 2   Sport       31161 non-null  object\n",
            " 3   Discipline  31161 non-null  object\n",
            " 4   Athlete     31161 non-null  object\n",
            " 5   Country     31161 non-null  object\n",
            " 6   Gender      31161 non-null  object\n",
            " 7   Event       31161 non-null  object\n",
            " 8   Medal       31161 non-null  object\n",
            "dtypes: int64(1), object(8)\n",
            "memory usage: 2.4+ MB\n"
          ]
        }
      ]
    },
    {
      "cell_type": "markdown",
      "metadata": {
        "id": "QBWauaKz5Ps4"
      },
      "source": [
        "*Now no null values in the Dataset*"
      ]
    },
    {
      "cell_type": "markdown",
      "metadata": {
        "id": "fzPHvv7w7Ben"
      },
      "source": [
        "### Assignment Question No. 1"
      ]
    },
    {
      "cell_type": "markdown",
      "metadata": {
        "id": "Xkm-JKGE7iev"
      },
      "source": [
        "1. In how many cities Summer Olympics is held so far?"
      ]
    },
    {
      "cell_type": "code",
      "metadata": {
        "colab": {
          "base_uri": "https://localhost:8080/"
        },
        "id": "_qWBwcYw4yW7",
        "outputId": "1a60ab8c-ed8a-4ad5-f3ae-65200629b1c7"
      },
      "source": [
        "summer['City'].nunique()"
      ],
      "execution_count": 19,
      "outputs": [
        {
          "output_type": "execute_result",
          "data": {
            "text/plain": [
              "22"
            ]
          },
          "metadata": {},
          "execution_count": 19
        }
      ]
    },
    {
      "cell_type": "markdown",
      "metadata": {
        "id": "jA1yrAMZ7wAY"
      },
      "source": [
        "Total in 22 cities , Summer Olympics is held so far."
      ]
    },
    {
      "cell_type": "markdown",
      "metadata": {
        "id": "VOM9pFSo724g"
      },
      "source": [
        "### Assignment Question No. 2"
      ]
    },
    {
      "cell_type": "markdown",
      "metadata": {
        "id": "PQ3IjUe877D7"
      },
      "source": [
        "2. Which sport is having most number of Gold Medals so far? (Top 5)"
      ]
    },
    {
      "cell_type": "code",
      "metadata": {
        "colab": {
          "base_uri": "https://localhost:8080/"
        },
        "id": "cyiq_kIF7bnJ",
        "outputId": "9f97f736-c0de-4601-838a-abade71e482c"
      },
      "source": [
        "z=[]\n",
        "for i in summer['Sport'].unique():\n",
        "  # print(i,len(summer[summer['Sport']==i]['Medal']))\n",
        "  z.append([len([1 for j in list(summer[summer['Sport']==i]['Medal']=='Gold') if j==True]),i])\n",
        "a=sorted(z,reverse=True)\n",
        "for p in range(5):\n",
        "  print(*a[p])\n",
        "  "
      ],
      "execution_count": 56,
      "outputs": [
        {
          "output_type": "stream",
          "name": "stdout",
          "text": [
            "1421 Aquatics\n",
            "1214 Athletics\n",
            "890 Rowing\n",
            "820 Gymnastics\n",
            "552 Fencing\n"
          ]
        }
      ]
    },
    {
      "cell_type": "markdown",
      "metadata": {
        "id": "efpyWLa1MPBJ"
      },
      "source": [
        "### Assignment Question No. 3"
      ]
    },
    {
      "cell_type": "markdown",
      "metadata": {
        "id": "_PjCdfV_MX19"
      },
      "source": [
        "3. Which sport is having most number of medals so far? (Top 5)"
      ]
    },
    {
      "cell_type": "code",
      "metadata": {
        "colab": {
          "base_uri": "https://localhost:8080/"
        },
        "id": "M8BmaOdMDZc6",
        "outputId": "6576e4d6-c70f-41a5-d24c-36254dc257cd"
      },
      "source": [
        "me=summer['Sport'].unique()\n",
        "l=[]\n",
        "for i in range(5):\n",
        "  l.append([len(summer[summer['Sport']==me[i]]['Medal']),me[i]])\n",
        "d=sorted(l,reverse=True)\n",
        "for p in range(0,5):\n",
        "  print(*d[p])"
      ],
      "execution_count": 62,
      "outputs": [
        {
          "output_type": "stream",
          "name": "stdout",
          "text": [
            "4170 Aquatics\n",
            "3637 Athletics\n",
            "2307 Gymnastics\n",
            "1613 Fencing\n",
            "1105 Cycling\n"
          ]
        }
      ]
    },
    {
      "cell_type": "markdown",
      "metadata": {
        "id": "tSy4MipKN2Lr"
      },
      "source": [
        "### Assignment Quesiton No. 4"
      ]
    },
    {
      "cell_type": "markdown",
      "metadata": {
        "id": "882nerloODhz"
      },
      "source": [
        "4. Which player has won most number of medals? (Top 5)"
      ]
    },
    {
      "cell_type": "code",
      "metadata": {
        "colab": {
          "base_uri": "https://localhost:8080/"
        },
        "id": "u5_EpWwPMsew",
        "outputId": "3f421f58-c168-43bf-e24f-30302c06782c"
      },
      "source": [
        "a=list(summer.Athlete)\n",
        "from collections import Counter\n",
        "u=Counter(a)\n",
        "m=[]\n",
        "for i,j in u.items():\n",
        "  m.append([j,i])\n",
        "m=sorted(m,reverse=True)\n",
        "for i in range(5):\n",
        "  print(*m[i])"
      ],
      "execution_count": 86,
      "outputs": [
        {
          "output_type": "stream",
          "name": "stdout",
          "text": [
            "22 PHELPS, Michael\n",
            "18 LATYNINA, Larisa\n",
            "15 ANDRIANOV, Nikolay\n",
            "13 SHAKHLIN, Boris\n",
            "13 ONO, Takashi\n"
          ]
        }
      ]
    },
    {
      "cell_type": "markdown",
      "metadata": {
        "id": "wnCbdS4MSJNK"
      },
      "source": [
        "### Assignment Question No. 5"
      ]
    },
    {
      "cell_type": "markdown",
      "metadata": {
        "id": "qIe0N4dkSORm"
      },
      "source": [
        "\n",
        "5. Which player has won most number Gold Medals of medals? (Top 5)"
      ]
    },
    {
      "cell_type": "code",
      "metadata": {
        "colab": {
          "base_uri": "https://localhost:8080/"
        },
        "id": "Y_2SGOGzOMRj",
        "outputId": "ac0d787b-fb23-4c0d-a348-f539af2aa2f0"
      },
      "source": [
        "z=list(np.array(summer.groupby(by='Medal'))[1][1]['Athlete'])\n",
        "from collections import Counter\n",
        "u=Counter(z)\n",
        "m=[]\n",
        "for i,j in u.items():\n",
        "  m.append([j,i])\n",
        "m=sorted(m,reverse=True)\n",
        "for i in range(5):\n",
        "  print(*m[i])"
      ],
      "execution_count": 96,
      "outputs": [
        {
          "output_type": "stream",
          "name": "stdout",
          "text": [
            "18 PHELPS, Michael\n",
            "9 SPITZ, Mark\n",
            "9 NURMI, Paavo\n",
            "9 LEWIS, Carl\n",
            "9 LATYNINA, Larisa\n"
          ]
        },
        {
          "output_type": "stream",
          "name": "stderr",
          "text": [
            "/usr/local/lib/python3.7/dist-packages/ipykernel_launcher.py:1: VisibleDeprecationWarning: Creating an ndarray from ragged nested sequences (which is a list-or-tuple of lists-or-tuples-or ndarrays with different lengths or shapes) is deprecated. If you meant to do this, you must specify 'dtype=object' when creating the ndarray\n",
            "  \"\"\"Entry point for launching an IPython kernel.\n"
          ]
        }
      ]
    },
    {
      "cell_type": "markdown",
      "metadata": {
        "id": "wgfJGuKYVs_F"
      },
      "source": [
        "### Assignment Question No. 6"
      ]
    },
    {
      "cell_type": "markdown",
      "metadata": {
        "id": "JV0ESjgJVyxY"
      },
      "source": [
        "\n",
        "6. In which year India won first Gold Medal in Summer Olympics?"
      ]
    },
    {
      "cell_type": "code",
      "metadata": {
        "id": "0UjZTF7RTrhG"
      },
      "source": [
        "quer=summer[summer['Country']=='IND']"
      ],
      "execution_count": 102,
      "outputs": []
    },
    {
      "cell_type": "code",
      "metadata": {
        "colab": {
          "base_uri": "https://localhost:8080/"
        },
        "id": "ttHbHLWvWPJg",
        "outputId": "0e58da82-3a18-493c-e580-8a1cb24ae130"
      },
      "source": [
        "quer[quer['Medal']=='Gold']['Year'][5512]"
      ],
      "execution_count": 106,
      "outputs": [
        {
          "output_type": "execute_result",
          "data": {
            "text/plain": [
              "1928"
            ]
          },
          "metadata": {},
          "execution_count": 106
        }
      ]
    },
    {
      "cell_type": "markdown",
      "metadata": {
        "id": "zD94Vsz6YHOf"
      },
      "source": [
        "### Assignment Question No. 7"
      ]
    },
    {
      "cell_type": "markdown",
      "metadata": {
        "id": "8Fk3ZtpbYLIm"
      },
      "source": [
        "7. Which event is most popular in terms on number of players? (Top 5)"
      ]
    },
    {
      "cell_type": "code",
      "metadata": {
        "colab": {
          "base_uri": "https://localhost:8080/"
        },
        "id": "sMboA07XX7B0",
        "outputId": "bce67e67-ab79-47ab-ef86-74a03d23f52a"
      },
      "source": [
        "a=list(summer.Event)\n",
        "from collections import Counter\n",
        "u=Counter(a)\n",
        "m=[]\n",
        "for i,j in u.items():\n",
        "  m.append([j,i])\n",
        "m=sorted(m,reverse=True)\n",
        "for i in range(5):\n",
        "  print(*m[i])"
      ],
      "execution_count": 108,
      "outputs": [
        {
          "output_type": "stream",
          "name": "stdout",
          "text": [
            "1497 Football\n",
            "1422 Hockey\n",
            "1147 Team Competition\n",
            "1012 Basketball\n",
            "973 Handball\n"
          ]
        }
      ]
    },
    {
      "cell_type": "markdown",
      "metadata": {
        "id": "K3npxroEZ-58"
      },
      "source": [
        "### Assignment Question No. 8"
      ]
    },
    {
      "cell_type": "markdown",
      "metadata": {
        "id": "8ukCwJD5aMQr"
      },
      "source": [
        "8. Which sport is having most female Gold Medalists? (Top 5)"
      ]
    },
    {
      "cell_type": "code",
      "metadata": {
        "colab": {
          "base_uri": "https://localhost:8080/"
        },
        "id": "16DsU7JoZ0OO",
        "outputId": "b4384f8c-aa4c-4ed2-d597-0b5c46392985"
      },
      "source": [
        "quer=summer[summer['Gender']=='Women']\n",
        "# quer[quer['Medal']=='Gold']['Sport']\n",
        "a=list(quer[quer['Medal']=='Gold']['Sport'])\n",
        "from collections import Counter\n",
        "u=Counter(a)\n",
        "m=[]\n",
        "for i,j in u.items():\n",
        "  m.append([j,i])\n",
        "m=sorted(m,reverse=True)\n",
        "for i in range(5):\n",
        "  print(*m[i])"
      ],
      "execution_count": 115,
      "outputs": [
        {
          "output_type": "stream",
          "name": "stdout",
          "text": [
            "589 Aquatics\n",
            "388 Athletics\n",
            "268 Gymnastics\n",
            "217 Rowing\n",
            "166 Volleyball\n"
          ]
        }
      ]
    },
    {
      "cell_type": "markdown",
      "metadata": {
        "id": "tq_3Jk-ubakL"
      },
      "source": [
        "# Thank You\n",
        "<h2> I am very happy to get this Internship, It is amazing and lucrative for my skills as well. "
      ]
    }
  ]
}